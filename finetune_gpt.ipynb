{
 "cells": [
  {
   "cell_type": "code",
   "execution_count": 1,
   "metadata": {},
   "outputs": [],
   "source": [
    "#SETUP\n",
    "import os\n",
    "from openai import OpenAI\n",
    "OPENAI_API_KEY = os.getenv(\"OPENAI_API_KEY\")\n",
    "\n",
    "client = OpenAI(api_key=OPENAI_API_KEY)"
   ]
  },
  {
   "cell_type": "code",
   "execution_count": 4,
   "metadata": {},
   "outputs": [],
   "source": [
    "truth_file_id = client.files.create(\n",
    "  file=open(\"TruthfulQA/data/finetune_truth.jsonl\", \"rb\"),\n",
    "  purpose=\"fine-tune\"\n",
    ").id"
   ]
  },
  {
   "cell_type": "code",
   "execution_count": 5,
   "metadata": {},
   "outputs": [
    {
     "data": {
      "text/plain": [
       "FineTuningJob(id='ftjob-pm97oDXbVQDzt3UfoeJ2yRFT', created_at=1724687136, error=Error(code=None, message=None, param=None), fine_tuned_model=None, finished_at=None, hyperparameters=Hyperparameters(n_epochs=5, batch_size=21, learning_rate_multiplier=0.1), model='davinci-002', object='fine_tuning.job', organization_id='org-4M8exCsj1fNOMx4oqlPiCUCt', result_files=[], seed=1009933296, status='validating_files', trained_tokens=None, training_file='file-XTjH4a0Wqc0aIBzZOA3yrNc9', validation_file=None, estimated_finish=None, integrations=[], user_provided_suffix='truthful')"
      ]
     },
     "execution_count": 5,
     "metadata": {},
     "output_type": "execute_result"
    }
   ],
   "source": [
    "# To finetune finetune_truth.jsonl on davinci-002 (the successor of curie, which is now deprecated)\n",
    "\n",
    "client.fine_tuning.jobs.create(\n",
    "  training_file=truth_file_id, \n",
    "  model=\"davinci-002\",\n",
    "  suffix=\"truthful\",\n",
    "  hyperparameters={\n",
    "    \"n_epochs\":5,\n",
    "    \"batch_size\":21,\n",
    "    \"learning_rate_multiplier\":0.1\n",
    "  }\n",
    ")"
   ]
  },
  {
   "cell_type": "code",
   "execution_count": 8,
   "metadata": {},
   "outputs": [
    {
     "data": {
      "text/plain": [
       "FineTuningJob(id='ftjob-9ZdwX0pnb3A1r17lHHXvLeUx', created_at=1724687193, error=Error(code=None, message=None, param=None), fine_tuned_model=None, finished_at=None, hyperparameters=Hyperparameters(n_epochs=5, batch_size=21, learning_rate_multiplier=0.1), model='davinci-002', object='fine_tuning.job', organization_id='org-4M8exCsj1fNOMx4oqlPiCUCt', result_files=[], seed=1379447394, status='validating_files', trained_tokens=None, training_file='file-gZ2aZ4tkoWkbVkTezOV0Kl3s', validation_file=None, estimated_finish=None, integrations=[], user_provided_suffix='informative')"
      ]
     },
     "execution_count": 8,
     "metadata": {},
     "output_type": "execute_result"
    }
   ],
   "source": [
    "# Do the same for finetune_info to obtain GPT-info\n",
    "info_id = client.files.create(\n",
    "  file=open(\"TruthfulQA/data/finetune_info.jsonl\", \"rb\"),\n",
    "  purpose=\"fine-tune\"\n",
    ").id\n",
    "\n",
    "client.fine_tuning.jobs.create(\n",
    "  training_file=info_id, \n",
    "  model=\"davinci-002\",\n",
    "  suffix=\"informative\",\n",
    "  hyperparameters={\n",
    "    \"n_epochs\":5,\n",
    "    \"batch_size\":21,\n",
    "    \"learning_rate_multiplier\":0.1\n",
    "  }\n",
    ")"
   ]
  },
  {
   "cell_type": "code",
   "execution_count": 9,
   "metadata": {},
   "outputs": [
    {
     "name": "stdout",
     "output_type": "stream",
     "text": [
      "FineTuningJob(id='ftjob-ppl1NJ3GDZ8HksrprAKluyJc', created_at=1716385111, error=Error(code=None, message=None, param=None), fine_tuned_model='', finished_at=1716387071, hyperparameters=Hyperparameters(n_epochs=5, batch_size=21, learning_rate_multiplier=0.1), model='davinci-002', object='fine_tuning.job', organization_id='org-4M8exCsj1fNOMx4oqlPiCUCt', result_files=['file-Es3R8FTjG6nYPdWjg6ZhXaAw'], seed=879173940, status='succeeded', trained_tokens=3492660, training_file='file-WX1sPesilGUJsHs0EZAfwXPv', validation_file=None, estimated_finish=None, integrations=[], user_provided_suffix=None)\n",
      "FineTuningJob(id='ftjob-gww32Q3svIlsAA0neCOU3QgB', created_at=1716384662, error=Error(code=None, message=None, param=None), fine_tuned_model=None, finished_at=None, hyperparameters=Hyperparameters(n_epochs=5, batch_size=21, learning_rate_multiplier=0.1), model='davinci-002', object='fine_tuning.job', organization_id='org-4M8exCsj1fNOMx4oqlPiCUCt', result_files=[], seed=1998706478, status='cancelled', trained_tokens=None, training_file='file-SnVxpwfxZQj3WiG5Iek9tHD2', validation_file=None, estimated_finish=1724688359, integrations=[], user_provided_suffix=None)\n",
      "FineTuningJob(id='ftjob-7Pfpf6D49Ml2AUv6OYbdzMCO', created_at=1716384325, error=Error(code=None, message=None, param=None), fine_tuned_model=None, finished_at=None, hyperparameters=Hyperparameters(n_epochs=1, batch_size=14, learning_rate_multiplier=16), model='davinci-002', object='fine_tuning.job', organization_id='org-4M8exCsj1fNOMx4oqlPiCUCt', result_files=[], seed=1554412080, status='cancelled', trained_tokens=None, training_file='file-SnVxpwfxZQj3WiG5Iek9tHD2', validation_file=None, estimated_finish=1724687420, integrations=[], user_provided_suffix=None)\n",
      "FineTuningJob(id='ftjob-sfmrwwbX6PHoJI8ggjnJ2ty2', created_at=1716384121, error=Error(code='invalid_training_file', message='The job failed due to an invalid training file. Invalid file format. Input file file-SnVxpwfxZQj3WiG5Iek9tHD2 is in the prompt-completion format, but the specified model gpt-3.5-turbo-0125 is a chat model and requires chat-formatted data. See https://platform.openai.com/docs/guides/fine-tuning/preparing-your-dataset for details.', param='training_file'), fine_tuned_model=None, finished_at=None, hyperparameters=Hyperparameters(n_epochs='auto', batch_size='auto', learning_rate_multiplier='auto'), model='gpt-3.5-turbo-0125', object='fine_tuning.job', organization_id='org-4M8exCsj1fNOMx4oqlPiCUCt', result_files=[], seed=1081320951, status='failed', trained_tokens=None, training_file='file-SnVxpwfxZQj3WiG5Iek9tHD2', validation_file=None, estimated_finish=None, integrations=[], user_provided_suffix=None)\n",
      "FineTuningJob(id='ftjob-afcoFDqZqZq6XY2oRRbqFPIm', created_at=1716383978, error=Error(code='invalid_training_file', message='The job failed due to an invalid training file. Invalid file format. Input file file-SnVxpwfxZQj3WiG5Iek9tHD2 is in the prompt-completion format, but the specified model gpt-3.5-turbo-0125 is a chat model and requires chat-formatted data. See https://platform.openai.com/docs/guides/fine-tuning/preparing-your-dataset for details.', param='training_file'), fine_tuned_model=None, finished_at=None, hyperparameters=Hyperparameters(n_epochs='auto', batch_size='auto', learning_rate_multiplier='auto'), model='gpt-3.5-turbo-0125', object='fine_tuning.job', organization_id='org-4M8exCsj1fNOMx4oqlPiCUCt', result_files=[], seed=1777405226, status='failed', trained_tokens=None, training_file='file-SnVxpwfxZQj3WiG5Iek9tHD2', validation_file=None, estimated_finish=None, integrations=[], user_provided_suffix=None)\n"
     ]
    }
   ],
   "source": [
    "# Print last 5 fine_tuning jobs\n",
    "fine_tuning_jobs = client.fine_tuning.jobs.list()\n",
    "for job in fine_tuning_jobs.data[-5:]:\n",
    "    print(job)\n",
    "    # print(f\"Job ID: {job.id}, Status: {job.status}, Model: {job.model}, Created At: {job.created_at}\")\n"
   ]
  },
  {
   "cell_type": "code",
   "execution_count": 3,
   "metadata": {},
   "outputs": [
    {
     "data": {
      "text/plain": [
       "FineTuningJob(id='ftjob-9ZdwX0pnb3A1r17lHHXvLeUx', created_at=1724687193, error=Error(code=None, message=None, param=None), fine_tuned_model='ft:davinci-002::informative:A0WuCDTp', finished_at=1724689851, hyperparameters=Hyperparameters(n_epochs=5, batch_size=21, learning_rate_multiplier=0.1), model='davinci-002', object='fine_tuning.job', organization_id='org-4M8exCsj1fNOMx4oqlPiCUCt', result_files=['file-zWEU0oz5iVst2KeGpfAymZsg'], seed=1379447394, status='succeeded', trained_tokens=3604830, training_file='file-gZ2aZ4tkoWkbVkTezOV0Kl3s', validation_file=None, estimated_finish=None, integrations=[], user_provided_suffix='informative')"
      ]
     },
     "execution_count": 3,
     "metadata": {},
     "output_type": "execute_result"
    }
   ],
   "source": [
    "client.fine_tuning.jobs.retrieve(\"ftjob-9ZdwX0pnb3A1r17lHHXvLeUx\")"
   ]
  },
  {
   "cell_type": "code",
   "execution_count": null,
   "metadata": {},
   "outputs": [],
   "source": []
  }
 ],
 "metadata": {
  "kernelspec": {
   "display_name": "iti",
   "language": "python",
   "name": "python3"
  },
  "language_info": {
   "codemirror_mode": {
    "name": "ipython",
    "version": 3
   },
   "file_extension": ".py",
   "mimetype": "text/x-python",
   "name": "python",
   "nbconvert_exporter": "python",
   "pygments_lexer": "ipython3",
   "version": "3.8.15"
  }
 },
 "nbformat": 4,
 "nbformat_minor": 2
}
